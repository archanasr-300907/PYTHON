{
  "nbformat": 4,
  "nbformat_minor": 0,
  "metadata": {
    "colab": {
      "provenance": [],
      "mount_file_id": "1xTNmfQGt6OdmqnKtd6cJCxpgZfWpcL65",
      "authorship_tag": "ABX9TyNHxLAEric2VkYNZPwaBvt8",
      "include_colab_link": true
    },
    "kernelspec": {
      "name": "python3",
      "display_name": "Python 3"
    },
    "language_info": {
      "name": "python"
    }
  },
  "cells": [
    {
      "cell_type": "markdown",
      "metadata": {
        "id": "view-in-github",
        "colab_type": "text"
      },
      "source": [
        "<a href=\"https://colab.research.google.com/github/archanasr-300907/PYTHON/blob/main/CRIME_PREDICTION.ipynb\" target=\"_parent\"><img src=\"https://colab.research.google.com/assets/colab-badge.svg\" alt=\"Open In Colab\"/></a>"
      ]
    },
    {
      "cell_type": "code",
      "source": [
        "import pandas as pd\n",
        "from sklearn.metrics import mean_squared_error\n",
        "\n",
        "train = pd.read_csv(\"new_train.csv\")\n",
        "test = pd.read_csv(\"new_test_for_participants.csv\")\n",
        "\n",
        "print(train.shape, test.shape)\n",
        "print(train.columns[:10])   # first 10 feature names\n",
        "print(train['ViolentCrimesPerPop'].describe())  # target stats\n",
        "\n",
        "from sklearn.model_selection import train_test_split\n",
        "\n",
        "X = train.drop(columns=['ViolentCrimesPerPop'])\n",
        "y = train['ViolentCrimesPerPop']\n",
        "\n",
        "X_train, X_val, y_train, y_val = train_test_split(X, y, test_size=0.2, random_state=42)\n",
        "\n",
        "from sklearn.ensemble import RandomForestRegressor\n",
        "from sklearn.metrics import mean_squared_error\n",
        "\n",
        "model = RandomForestRegressor(n_estimators=200, random_state=42)\n",
        "model.fit(X_train, y_train)\n",
        "\n",
        "y_pred = model.predict(X_val)\n",
        "\n",
        "mse = mean_squared_error(y_val, y_pred)\n",
        "rmse = np.sqrt(mse)\n",
        "\n",
        "print(\"Validation RMSE:\", rmse)\n",
        "\n",
        "model.fit(X, y)  # train on full training data\n",
        "test_preds = model.predict(test)\n",
        "\n",
        "submission = pd.DataFrame({\n",
        "    \"Id\": test.index,  # or any ID column if provided\n",
        "    \"ViolentCrimesPerPop\": test_preds\n",
        "})\n",
        "submission.to_csv(\"submission.csv\", index=False)\n"
      ],
      "metadata": {
        "colab": {
          "base_uri": "https://localhost:8080/"
        },
        "id": "kNI7EmY-g4wW",
        "outputId": "47994815-0920-4886-901f-e5b610b00404"
      },
      "execution_count": 8,
      "outputs": [
        {
          "output_type": "stream",
          "name": "stdout",
          "text": [
            "(1276, 90) (319, 89)\n",
            "Index(['ID', 'population', 'householdsize', 'agePct12t21', 'agePct12t29',\n",
            "       'agePct16t24', 'agePct65up', 'numbUrban', 'pctUrban', 'medIncome'],\n",
            "      dtype='object')\n",
            "count    1276.000000\n",
            "mean      590.530792\n",
            "std       612.790345\n",
            "min         0.000000\n",
            "25%       171.540000\n",
            "50%       384.720000\n",
            "75%       815.990000\n",
            "max      4877.060000\n",
            "Name: ViolentCrimesPerPop, dtype: float64\n",
            "Validation RMSE: 413.8405042391392\n"
          ]
        }
      ]
    }
  ]
}